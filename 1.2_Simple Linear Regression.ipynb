{
 "cells": [
  {
   "cell_type": "markdown",
   "id": "c4823a15",
   "metadata": {},
   "source": [
    "## Simple Linear Regression \n",
    "\n",
    "Model representaion = a straight line: $f_{w,b}$(x) = $w$x + $b$\n",
    "\n",
    "* A <b>supervised</b> learning model (meaning that it learns from labeled data) for predicting a <b>continuous valued output</b> - such as the price of houses (real numbers i.e. scalar values).\n",
    "* Types of Linear regression: \n",
    "** Univariate (simple) linear regression uses one independent variable to predict the output $\\hat{y}$ (y_hat). \n",
    "** Multiple linear regression uses two or more independent variables to predict $\\hat{y}$. Using more variables allows the model to account for more factors that influence y and generally improve predictive accuracy. \n"
   ]
  },
  {
   "cell_type": "markdown",
   "id": "83e8a3ca",
   "metadata": {},
   "source": [
    "## Linear Regresison - Example \n",
    "\n",
    "Suppose you are the CEO of a restaurant franchise and are considering different cities for opening a new outlet. The chain already has restaurants in various cities and you have data for profits and populations from the cities. \n",
    "You would like to use this data to help you identify which cities may potentially give youre business higer profits.\n",
    "The dataset contains two columns. The first one is the population of a city and the second one is the profit of a food restaurant in that city. A negative value for profit indicates a loss."
   ]
  },
  {
   "cell_type": "code",
   "execution_count": 3,
   "id": "03f1fc20",
   "metadata": {},
   "outputs": [
    {
     "data": {
      "text/html": [
       "<div>\n",
       "<style scoped>\n",
       "    .dataframe tbody tr th:only-of-type {\n",
       "        vertical-align: middle;\n",
       "    }\n",
       "\n",
       "    .dataframe tbody tr th {\n",
       "        vertical-align: top;\n",
       "    }\n",
       "\n",
       "    .dataframe thead th {\n",
       "        text-align: right;\n",
       "    }\n",
       "</style>\n",
       "<table border=\"1\" class=\"dataframe\">\n",
       "  <thead>\n",
       "    <tr style=\"text-align: right;\">\n",
       "      <th></th>\n",
       "      <th>6.1101</th>\n",
       "      <th>17.592</th>\n",
       "    </tr>\n",
       "  </thead>\n",
       "  <tbody>\n",
       "    <tr>\n",
       "      <th>0</th>\n",
       "      <td>5.5277</td>\n",
       "      <td>9.1302</td>\n",
       "    </tr>\n",
       "    <tr>\n",
       "      <th>1</th>\n",
       "      <td>8.5186</td>\n",
       "      <td>13.6620</td>\n",
       "    </tr>\n",
       "    <tr>\n",
       "      <th>2</th>\n",
       "      <td>7.0032</td>\n",
       "      <td>11.8540</td>\n",
       "    </tr>\n",
       "    <tr>\n",
       "      <th>3</th>\n",
       "      <td>5.8598</td>\n",
       "      <td>6.8233</td>\n",
       "    </tr>\n",
       "    <tr>\n",
       "      <th>4</th>\n",
       "      <td>8.3829</td>\n",
       "      <td>11.8860</td>\n",
       "    </tr>\n",
       "  </tbody>\n",
       "</table>\n",
       "</div>"
      ],
      "text/plain": [
       "   6.1101   17.592\n",
       "0  5.5277   9.1302\n",
       "1  8.5186  13.6620\n",
       "2  7.0032  11.8540\n",
       "3  5.8598   6.8233\n",
       "4  8.3829  11.8860"
      ]
     },
     "execution_count": 3,
     "metadata": {},
     "output_type": "execute_result"
    }
   ],
   "source": [
    "import math\n",
    "import pandas as pd\n",
    "import numpy as np\n",
    "import matplotlib.pyplot as plt\n",
    "\n",
    "data = pd.read_csv('data/1.1_data.csv') #read from dataset\n",
    "data.head(5)"
   ]
  },
  {
   "cell_type": "code",
   "execution_count": 88,
   "id": "4b8b33fd",
   "metadata": {},
   "outputs": [
    {
     "name": "stdout",
     "output_type": "stream",
     "text": [
      "Type and size of x_train:  <class 'numpy.ndarray'> (97,)\n",
      "First five elements of x_train are:  [6.1101 5.5277 8.5186 7.0032 5.8598]\n",
      "Type and size of y_train:  <class 'numpy.ndarray'> (97,)\n",
      "First five elements of y_train are:  [17.592   9.1302 13.662  11.854   6.8233]\n"
     ]
    }
   ],
   "source": [
    "# Note: loc gets rows/columns with particular labels. iloc gets rows/columns at integer locations.\n",
    "x_train = np.array(data.iloc[:,0]) # city population\n",
    "y_train = np.array(data.iloc[:,1]) # average monthly profit \n",
    "print(\"Type and size of x_train: \", type(x_train), x_train.shape)\n",
    "print(\"First five elements of x_train are: \", x_train[:5])\n",
    "print(\"Type and size of y_train: \", type(y_train), y_train.shape)\n",
    "print(\"First five elements of y_train are: \", y_train[:5])"
   ]
  },
  {
   "cell_type": "code",
   "execution_count": 89,
   "id": "be2071d1",
   "metadata": {},
   "outputs": [
    {
     "data": {
      "image/png": "[encoded data removed]",
      "text/plain": [
       "<Figure size 432x288 with 1 Axes>"
      ]
     },
     "metadata": {
      "needs_background": "light"
     },
     "output_type": "display_data"
    }
   ],
   "source": [
    "plt.scatter(x_train, y_train, marker='o', color='red')\n",
    "plt.title(\"Profits vs. Population per city\")\n",
    "plt.ylabel(\"Profit in $10000\")\n",
    "plt.xlabel(\"Population of city in 10000s\")\n",
    "plt.show()"
   ]
  },
  {
   "cell_type": "code",
   "execution_count": 90,
   "id": "48a49316",
   "metadata": {},
   "outputs": [],
   "source": [
    "def compute_cost(x, y, w, b):\n",
    "    '''\n",
    "    Computes the cost function for linear regression.\n",
    "    \n",
    "    Args:\n",
    "    x (ndarray): Shape (m,) Input to the model (Population of cities)\n",
    "    y (ndarray): Shape (m,) Label (Actual profits/cities)\n",
    "    w, b (scalar): Parameters of the model\n",
    "    \n",
    "    Returns:\n",
    "    total_cost (float): The cost of using w and b as parameters for the model to fit x and y.    \n",
    "    '''\n",
    "    \n",
    "    # number of training examples\n",
    "    m = x.shape[0]\n",
    "    \n",
    "    total_cost = 0\n",
    "    \n",
    "    for i in range(m):\n",
    "        total_cost += (w * x[i] + b - y[i])**2\n",
    "        \n",
    "    total_cost = total_cost / (2 * m)\n",
    "    \n",
    "    return total_cost"
   ]
  },
  {
   "cell_type": "code",
   "execution_count": 91,
   "id": "bf2c3111",
   "metadata": {},
   "outputs": [
    {
     "data": {
      "text/plain": [
       "75.20338497891959"
      ]
     },
     "execution_count": 91,
     "metadata": {},
     "output_type": "execute_result"
    }
   ],
   "source": [
    "# Test\n",
    "init_w = 2\n",
    "init_b = 1\n",
    "compute_cost(x_train, y_train, init_w, init_b)"
   ]
  },
  {
   "cell_type": "code",
   "execution_count": 92,
   "id": "abfa146b",
   "metadata": {},
   "outputs": [],
   "source": [
    "def compute_gradient(x, y, w, b):\n",
    "    '''\n",
    "    Computes the gradient for linear regression.\n",
    "    \n",
    "    Args:\n",
    "    x (ndarray): Shape (m,) Input to the model (Population of cities)\n",
    "    y (ndarray): Shape (m,) Label (Actual profits/cities)\n",
    "    w, b (scalar): Parameters of the model\n",
    "    \n",
    "    Returns:\n",
    "    dj_dw (scalar): The gradient of the cost with respect to w\n",
    "    fj_db (scalar): The gradient of the cost with respect to b    \n",
    "    '''\n",
    "    \n",
    "    m = x.shape[0] # same as len(x)\n",
    "    \n",
    "    dj_dw = 0\n",
    "    dj_db = 0\n",
    "    \n",
    "    for i in range(m):\n",
    "        diff = w * x[i] + b - y[i]\n",
    "        dj_dw += diff * x[i]\n",
    "        dj_db += diff\n",
    "        \n",
    "    dj_dw = dj_dw / m\n",
    "    dj_db = dj_db / m\n",
    "    \n",
    "    return dj_dw, dj_db "
   ]
  },
  {
   "cell_type": "code",
   "execution_count": 93,
   "id": "6aa0393e",
   "metadata": {},
   "outputs": [
    {
     "name": "stdout",
     "output_type": "stream",
     "text": [
      "Gradient at (w, b) = (0, 0):  -65.32884974555672 -5.83913505154639\n",
      "Gradient at (w, b) = (0, 0):  -47.41610118114435 -4.007175051546391\n"
     ]
    }
   ],
   "source": [
    "# Test\n",
    "init_w = 0\n",
    "init_b = 0\n",
    "dj_dw, dj_db = compute_gradient(x_train, y_train, init_w, init_b)\n",
    "print(\"Gradient at (w, b) = (0, 0): \", dj_dw, dj_db)\n",
    "\n",
    "init_w = 0.2\n",
    "init_b = 0.2\n",
    "dj_dw, dj_db = compute_gradient(x_train, y_train, init_w, init_b)\n",
    "print(\"Gradient at (w, b) = (0, 0): \", dj_dw, dj_db)"
   ]
  },
  {
   "cell_type": "code",
   "execution_count": 130,
   "id": "610b6f97",
   "metadata": {},
   "outputs": [],
   "source": [
    "def gradient_descent(x, y, w_in, b_in, cost_func, gradient_func, alpha, num_iters):\n",
    "    '''\n",
    "    Performs batch gradient descent to learn parameters w and b.  \n",
    "    Updates parameters by taking num_iters gradient steps with learning rate alpha.\n",
    "    \n",
    "    Args:\n",
    "    x (ndarray): Shape (m,) Input to the model (Population of cities)\n",
    "    y (ndarray): Shape (m,) Label (Actual profits/cities)\n",
    "    w_in, b_in (scalar): Initial values of parameters of the model\n",
    "    cost_func: function to compute cost\n",
    "    gradient_func: function to compute gradients\n",
    "    alpha (float): Learning rate\n",
    "    num_iters (int): number of iterations to run gradient descent\n",
    "    \n",
    "    Returns:\n",
    "    w (scalar): Shape (1,) Updated value of parameter w of the model after running gradient descent\n",
    "    b (scalar): Shape (1,) Updated value of parameter b of the model after running gradient descent \n",
    "    '''\n",
    " \n",
    "    w = w_in\n",
    "    b = b_in\n",
    "    \n",
    "    for i in range(num_iters):\n",
    "        dj_dw, dj_db = gradient_func(x, y, w, b)\n",
    "        \n",
    "        w = w - alpha * dj_dw\n",
    "        b = b - alpha * dj_db\n",
    "        \n",
    "        cost = cost_func(x, y, w, b)\n",
    "        \n",
    "        if i % math.ceil(num_iters / 10) == 0:\n",
    "            print(f\"Iteration {i}: Cost = {cost:.2f}, w = {w}, b = {b}\")\n",
    "             \n",
    "            \n",
    "    return w, b"
   ]
  },
  {
   "cell_type": "code",
   "execution_count": 131,
   "id": "57bcb20f",
   "metadata": {},
   "outputs": [
    {
     "name": "stdout",
     "output_type": "stream",
     "text": [
      "Iteration 0: Cost = 6.74, w = 0.6532884974555673, b = 0.0583913505154639\n",
      "Iteration 150: Cost = 5.31, w = 0.8888949164626273, b = -0.8683454409370605\n",
      "Iteration 300: Cost = 4.96, w = 0.9610073805299465, b = -1.5861620466203947\n",
      "Iteration 450: Cost = 4.76, w = 1.0160217015468063, b = -2.1337815696397477\n",
      "Iteration 600: Cost = 4.64, w = 1.0579919151026862, b = -2.5515583939951316\n",
      "Iteration 750: Cost = 4.57, w = 1.090010829330244, b = -2.8702787237710674\n",
      "Iteration 900: Cost = 4.53, w = 1.114437935638548, b = -3.113429235456871\n",
      "Iteration 1050: Cost = 4.51, w = 1.1330732809334128, b = -3.2989278240615976\n",
      "Iteration 1200: Cost = 4.50, w = 1.147290114064432, b = -3.440443982657258\n",
      "Iteration 1350: Cost = 4.49, w = 1.1581360812883905, b = -3.548406114845482\n",
      "\n",
      "Params found by gradient descent: w = 1.166362350335582, b = -3.63029143940436\n"
     ]
    }
   ],
   "source": [
    "w_init = 0\n",
    "b_init = 0\n",
    "iters = 1500\n",
    "alpha = 0.01\n",
    "\n",
    "w, b = gradient_descent(x_train, y_train, w_init, b_init, compute_cost, compute_gradient, alpha, iters)\n",
    "print(f\"\\nParams found by gradient descent: w = {w}, b = {b}\")"
   ]
  },
  {
   "cell_type": "code",
   "execution_count": 133,
   "id": "931a9568",
   "metadata": {},
   "outputs": [
    {
     "data": {
      "image/png": "[encoded data removed]",
      "text/plain": [
       "<Figure size 432x288 with 1 Axes>"
      ]
     },
     "metadata": {
      "needs_background": "light"
     },
     "output_type": "display_data"
    }
   ],
   "source": [
    "m = x_train.shape[0]\n",
    "predicted = np.dot(w, x_train) + b \n",
    "\n",
    "plt.plot(x_train, predicted, color='blue')\n",
    "plt.scatter(x_train, y_train, marker='o', color='red')\n",
    "plt.title(\"Profits vs. Population per city\")\n",
    "plt.ylabel(\"Profit in $10000\")\n",
    "plt.xlabel(\"Population of city in 10000s\")\n",
    "plt.show()"
   ]
  },
  {
   "cell_type": "code",
   "execution_count": 147,
   "id": "d3f2eb1f",
   "metadata": {},
   "outputs": [
    {
     "name": "stdout",
     "output_type": "stream",
     "text": [
      "The predicted monthly profit for a city with 35000.0 citizen is $4519.77\n",
      "The predicted monthly profit for a city with 121000.0 citizen is $104826.93\n",
      "The predicted monthly profit for a city with 70000 citizen is $45342.45\n"
     ]
    }
   ],
   "source": [
    "# Using data on city population of cities that are candidates for new restaurants, predict revenue.\n",
    "population = [3.5, 12.1, 7] # in 10000s\n",
    "\n",
    "for p in population:\n",
    "    predict = w * p + b\n",
    "    print(f\"The predicted monthly profit for a city with {p * 10000} citizen is ${predict * 10000:.2f}\")"
   ]
  },
  {
   "cell_type": "code",
   "execution_count": null,
   "id": "455509d9",
   "metadata": {},
   "outputs": [],
   "source": []
  }
 ],
 "metadata": {
  "kernelspec": {
   "display_name": "Python 3 (ipykernel)",
   "language": "python",
   "name": "python3"
  },
  "language_info": {
   "codemirror_mode": {
    "name": "ipython",
    "version": 3
   },
   "file_extension": ".py",
   "mimetype": "text/x-python",
   "name": "python",
   "nbconvert_exporter": "python",
   "pygments_lexer": "ipython3",
   "version": "3.9.7"
  }
 },
 "nbformat": 4,
 "nbformat_minor": 5
}
