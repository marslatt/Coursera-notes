{
 "cells": [
  {
   "cell_type": "markdown",
   "id": "05aba721",
   "metadata": {},
   "source": [
    "## NumPy \n",
    "\n",
    "NumPy (https://numpy.org/doc/stable) is a library that extends the base capabilities of Python to add a richer data set including more numeric types, vectors, matrices and matrix functions. NumPy and Python work together fairly seamlessly - Python arithmetic operators work on NumPy data types and many NumPy functions will accept Python data types.\n",
    "\n",
    "* NumPy basic datatype is an indexable, n-dimensional array, containing elements of the same type (check the type of data present with $dtype$)\n",
    "* Vector in this context represents ordered array of numbers (with # of elements reffered to as 'dimension' or 'rank').\n",
    "* Some NumPy routines for creating vectors take # of elements as arguments, others take a shape tuple. \n",
    "* NumPy provides very complete set of indexing and slicing capabilities for accessing vector elements."
   ]
  },
  {
   "cell_type": "code",
   "execution_count": 72,
   "id": "ab9252ec",
   "metadata": {},
   "outputs": [
    {
     "name": "stdout",
     "output_type": "stream",
     "text": [
      "np.zeros(0) = [] (0,) float64 \n",
      "\n",
      "np.zeros((4,)) = [0. 0. 0. 0.] (4,) float64 \n",
      "\n",
      "np.random.random_sample((4,)) = [0.75670966 0.51098636 0.82451066 0.11226307] (4,) float64 \n",
      "\n",
      "np.random.rand(4) = [0.85153783 0.87392441 0.84253932 0.99492498] (4,) float64 \n",
      "\n",
      "np.arange(4.) = [0. 1. 2. 3.] (4,) float64 \n",
      "\n",
      "np.arange(0., 4, 1) = [0. 1. 2. 3.] (4,) float64 \n",
      "\n",
      "np.array([1, 2, 3, 4]) = [1 2 3 4] (4,) int32 \n",
      "\n",
      "np.array([1., 2., 3, 4]) = [1. 2. 3. 4.] (4,) float64 \n",
      "\n",
      "a = [0 1 2 3 4 5 6 7 8 9] \n",
      " a[2] = 2 \n",
      " a[-1] = 9 \n",
      " a[2:7:1] = [2 3 4 5 6] \n",
      " a[2:7:2] = [2 4 6] \n",
      " a[2:] = [2 3 4 5 6 7 8 9] \n",
      " a[:2] = [0 1] \n",
      " a[:] = [0 1 2 3 4 5 6 7 8 9] \n",
      "\n"
     ]
    }
   ],
   "source": [
    "import numpy as np\n",
    "\n",
    "# NumPy routines which allocate memory and fill arrays with value\n",
    "# All examples have shape (4,) i.e. 1-D array with 4 elements for comparison):\n",
    "\n",
    "v = np.zeros(0)\n",
    "print(\"np.zeros(0) =\", v, v.shape, v.dtype, \"\\n\")\n",
    "v = np.zeros((4,))\n",
    "print(\"np.zeros((4,)) =\", v, v.shape, v.dtype, \"\\n\")\n",
    "v = np.random.random_sample((4,))  # uniform distribution over [0, 1)\n",
    "print(\"np.random.random_sample((4,)) =\", v, v.shape, v.dtype, \"\\n\")    \n",
    "v = np.random.rand(4)  # uniform distribution over [0, 1)\n",
    "print(\"np.random.rand(4) =\", v, v.shape, v.dtype, \"\\n\")       \n",
    "v = np.arange(4.)  # evenly spaced values.\n",
    "print(\"np.arange(4.) =\", v, v.shape, v.dtype, \"\\n\")    \n",
    "v = np.arange(0., 4, 1)  # start [optional, default = 0], stop, step [optional, default = 1]  \n",
    "print(\"np.arange(0., 4, 1) =\", v, v.shape, v.dtype, \"\\n\")      \n",
    "v = np.array([1, 2, 3, 4])\n",
    "print(\"np.array([1, 2, 3, 4]) =\", v, v.shape, v.dtype, \"\\n\")     \n",
    "v = np.array([1., 2., 3, 4])  # start [optional, default = 0], stop, step [optional, default = 1],\n",
    "print(\"np.array([1., 2., 3, 4]) =\", v, v.shape, v.dtype, \"\\n\")     \n",
    "    \n",
    "# Indexing (refers 1 element by position) and slicing (refurs a subset based on indices) \n",
    "# Index must be withing vector range \n",
    "\n",
    "a = np.arange(10)\n",
    "print(\"a =\", a, \"\\n\",\n",
    "      \"a[2] =\", a[2], \"\\n\", \n",
    "      \"a[-1] =\", a[-1], \"\\n\", # laste element\n",
    "      \"a[2:7:1] =\", a[2:7:1], \"\\n\", # stat:stop:step\n",
    "      \"a[2:7:2] =\", a[2:7:2], \"\\n\", # stat:stop:step\n",
    "      \"a[2:] =\", a[2:], \"\\n\", # all elements index 2 and above\n",
    "      \"a[:2] =\", a[:2], \"\\n\", # all elements below index 2\n",
    "      \"a[:] =\", a[:], \"\\n\", # all elements \n",
    "     )"
   ]
  },
  {
   "cell_type": "markdown",
   "id": "cc89469a",
   "metadata": {},
   "source": [
    "## Vector operations\n",
    "\n",
    "* NumPy library imrpoves memory efficiency. Vectorization provides a large speed up as NumPy makes a better use of the available parallelism in the underlying hardware. GPU and moden CPU's implement Single Instruction, Multiple Data (SIMD) piplines, allowing multiple operation to be issued in parallel. This has proven to be critical in ML, where the datasets are often very large.\n",
    "* Most of NumPy arithmetic, logical and comparison operations apply to vectors as well and work emelement-wise (on an element-by-element basis). The requirement  for the vectors is to have the same shapes.\n",
    "* The dot product of two vectors returns a scalar value and is calculated as:  $x = \\sum_{i=0}^{n-1} a^{(i)}.b^{(i)}$"
   ]
  },
  {
   "cell_type": "code",
   "execution_count": 73,
   "id": "288f34b8",
   "metadata": {},
   "outputs": [
    {
     "name": "stdout",
     "output_type": "stream",
     "text": [
      "a = [0 1 2 3 4 5 6 7 8 9] \n",
      " -a = [ 0 -1 -2 -3 -4 -5 -6 -7 -8 -9] \n",
      " np.sum(a) = 45 \n",
      " np.mean(a) = 4.5 \n",
      " a**2 [ 0  1  4  9 16 25 36 49 64 81] \n",
      " a*2 = [ 0  2  4  6  8 10 12 14 16 18] \n",
      " a-2 = [-2 -1  0  1  2  3  4  5  6  7] \n",
      "\n",
      "b = [10 11 12 13 14 15 16 17 18 19] \n",
      " a + b = [10 12 14 16 18 20 22 24 26 28] \n",
      " a.dot(b) = 735 \n",
      " np.dot(a, b) = 735 \n",
      "\n"
     ]
    }
   ],
   "source": [
    "a = np.arange(10)\n",
    "print(\"a =\", a, \"\\n\",\n",
    "      \"-a =\", -a, \"\\n\", \n",
    "      \"np.sum(a) =\", np.sum(a), \"\\n\", # sum all elements \n",
    "      \"np.mean(a) =\", np.mean(a), \"\\n\",  \n",
    "      \"a**2\", a**2, \"\\n\",  \n",
    "      \"a*2 =\", a*2, \"\\n\",  \n",
    "      \"a-2 =\", a-2, \"\\n\", \n",
    "     )\n",
    "\n",
    "b = np.arange(10, 20, 1)\n",
    "print(\"b =\", b, \"\\n\",\n",
    "      \"a + b =\", a + b, \"\\n\", \n",
    "      \"a.dot(b) =\", a.dot(b), \"\\n\",  # dot product of two vectors  \n",
    "      \"np.dot(a, b) =\", np.dot(a, b), \"\\n\",\n",
    "     )"
   ]
  },
  {
   "cell_type": "markdown",
   "id": "d5e1d1e1",
   "metadata": {},
   "source": [
    "## Broadcasting\n",
    "\n",
    "> The term broadcasting describes how NumPy treats arrays with different shapes during arithmetic operations. Subject to certain constraints, the smaller array is “broadcast” across the larger array so that they have compatible shapes. Broadcasting provides a means of vectorizing array operations so that looping occurs in C instead of Python. It does this without making needless copies of data and usually leads to efficient algorithm implementations. There are, however, cases where broadcasting is a bad idea because it leads to inefficient use of memory that slows computation. "
   ]
  },
  {
   "cell_type": "code",
   "execution_count": null,
   "id": "be01a249",
   "metadata": {},
   "outputs": [],
   "source": []
  }
 ],
 "metadata": {
  "kernelspec": {
   "display_name": "Python 3 (ipykernel)",
   "language": "python",
   "name": "python3"
  },
  "language_info": {
   "codemirror_mode": {
    "name": "ipython",
    "version": 3
   },
   "file_extension": ".py",
   "mimetype": "text/x-python",
   "name": "python",
   "nbconvert_exporter": "python",
   "pygments_lexer": "ipython3",
   "version": "3.9.7"
  }
 },
 "nbformat": 4,
 "nbformat_minor": 5
}
