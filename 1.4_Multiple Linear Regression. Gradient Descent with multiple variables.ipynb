{
 "cells": [
  {
   "cell_type": "markdown",
   "id": "1bc5825a",
   "metadata": {},
   "source": [
    "## Multiple Linear Regression \n",
    "\n",
    "Model representation - a straight line: $f_{\\vec{w},b}(\\vec{x}) = \\vec{w}.\\vec{X}$ + $b$ ,   where $.$ is a dot product \n",
    "<br>\n",
    "> Multiple Linear Regression is a model that estimates the relationship between a quantitative dependent variable and two or more independent variables using a straight line\n",
    "<br>\n",
    "\n",
    "* $w_{1} ... w_{n}, b = $ weights or coefficients or parameters of the model (adjusted as the model learns from data)\n",
    "* $\\vec{w} = [w_{1} ... w_{n}] = n$-length vector\n",
    "* $b = $ scalar \n",
    "* $\\vec{X} = $ feature matrix with $m$ rows and $n$ columns\n",
    "* $n = $ length of sample vector\n",
    "* $m = $ number of training samples\n",
    "* $x^{(i)} = (x^{(i)}_{1}, ... , x^{(i)}_{n}) = $ feature vector $i$\n",
    "* $x^{(i)}_{j} = $ element $j$ in sample $i$\n",
    "* $f_{\\vec{w},b}(x^{(i)}) = w_{1}x_{1}$ + ... + $w_{n}x_{1}$ + $b$\n",
    "* $J(\\vec{w},b) = J(w_{1}...w_{n},b) = \\frac{1}{2m} \\sum_{i=1}^{m} ( f_{\\vec{w},b}(x^{(i)}) - y^{(i)} )^{2} = $ cost function, where $f_{\\vec{w},b}(\\vec{x}) = \\vec{w}.x^{(i)}$ + $b$\n"
   ]
  },
  {
   "cell_type": "markdown",
   "id": "9a630b9c",
   "metadata": {},
   "source": [
    "## Gradient Descent with multiple variables\n",
    "\n",
    "Repeat until convergence: {\n",
    "    <br>  $w_{j} = w_{j} - \\alpha \\frac{\\partial}{\\partial w_{j}}J(\\vec{w},b)$ \n",
    "    <br>  $b = b - \\alpha \\frac{\\partial}{\\partial b}J(\\vec{w},b)$ <br> \n",
    "}\n",
    "<br><br>\n",
    "where: \n",
    "<br><br>$\\frac{\\partial}{\\partial w_{j}}J(\\vec{w},b) = \\frac{1}{m} \\sum_{i=1}^{m} \\sum_{j=1}^{n} ( f_{\\vec{w},b}(x^{(i)}) - y^{(i)} )x^{(i)}_{j}$ \n",
    "<br><br>$\\frac{\\partial}{\\partial b}J(\\vec{w},b) = \\frac{1}{m} \\sum_{i=1}^{m} ( f_{\\vec{w},b}(x^{(i)}) - y^{(i)} )$"
   ]
  },
  {
   "cell_type": "markdown",
   "id": "d67f0dcb",
   "metadata": {},
   "source": [
    "## Alternative to Gradient Descent:\n",
    "\n",
    "<br>\n",
    " \n",
    "> For models like Linear Regression, we can use two types of techniques to fit the parameter: Normal Equation and Gradient descent. \n",
    "\n",
    "* Normal equation is used only for linear regression i.e. does not generalize for other learning algorithms\n",
    "* It's slow for number of features > 10000\n",
    "* May be used on the background by ML libraries"
   ]
  },
  {
   "cell_type": "markdown",
   "id": "24cdb7f9",
   "metadata": {},
   "source": [
    "## Multiple Linear Regresison - Example\n",
    "\n",
    "Given a dataset containing area (sqm), number of bedrooms, number of floors, age and price of a set of houses, create a model for predicting house prices."
   ]
  },
  {
   "cell_type": "code",
   "execution_count": 129,
   "id": "c5d8dfaf",
   "metadata": {},
   "outputs": [
    {
     "data": {
      "text/html": [
       "<div>\n",
       "<style scoped>\n",
       "    .dataframe tbody tr th:only-of-type {\n",
       "        vertical-align: middle;\n",
       "    }\n",
       "\n",
       "    .dataframe tbody tr th {\n",
       "        vertical-align: top;\n",
       "    }\n",
       "\n",
       "    .dataframe thead th {\n",
       "        text-align: right;\n",
       "    }\n",
       "</style>\n",
       "<table border=\"1\" class=\"dataframe\">\n",
       "  <thead>\n",
       "    <tr style=\"text-align: right;\">\n",
       "      <th></th>\n",
       "      <th>area</th>\n",
       "      <th>bedrooms</th>\n",
       "      <th>floors</th>\n",
       "      <th>age</th>\n",
       "      <th>price</th>\n",
       "    </tr>\n",
       "  </thead>\n",
       "  <tbody>\n",
       "    <tr>\n",
       "      <th>0</th>\n",
       "      <td>2104</td>\n",
       "      <td>5</td>\n",
       "      <td>1</td>\n",
       "      <td>45</td>\n",
       "      <td>460</td>\n",
       "    </tr>\n",
       "    <tr>\n",
       "      <th>1</th>\n",
       "      <td>1416</td>\n",
       "      <td>3</td>\n",
       "      <td>2</td>\n",
       "      <td>40</td>\n",
       "      <td>232</td>\n",
       "    </tr>\n",
       "    <tr>\n",
       "      <th>2</th>\n",
       "      <td>852</td>\n",
       "      <td>2</td>\n",
       "      <td>1</td>\n",
       "      <td>35</td>\n",
       "      <td>178</td>\n",
       "    </tr>\n",
       "  </tbody>\n",
       "</table>\n",
       "</div>"
      ],
      "text/plain": [
       "   area  bedrooms  floors  age  price\n",
       "0  2104         5       1   45    460\n",
       "1  1416         3       2   40    232\n",
       "2   852         2       1   35    178"
      ]
     },
     "execution_count": 129,
     "metadata": {},
     "output_type": "execute_result"
    }
   ],
   "source": [
    "import pandas as pd\n",
    "import numpy as np\n",
    "import matplotlib.pyplot as plt\n",
    "import copy\n",
    "import math\n",
    "\n",
    "data = pd.read_csv('data/1.3_homeprices.csv')\n",
    "data.head()"
   ]
  },
  {
   "cell_type": "code",
   "execution_count": 130,
   "id": "e2c3723e",
   "metadata": {},
   "outputs": [],
   "source": [
    "# loc gets rows/columns with particular labels. iloc gets rows/columns at integer locations.\n",
    "X_train = np.array(data.loc[:, ['area', 'bedrooms', 'floors', 'age']])  \n",
    "y_train = np.array(data.loc[:,'price'])  "
   ]
  },
  {
   "cell_type": "code",
   "execution_count": 131,
   "id": "178bc3d5",
   "metadata": {},
   "outputs": [
    {
     "data": {
      "image/png": "[encoded data removed]",
      "text/plain": [
       "<Figure size 1080x144 with 4 Axes>"
      ]
     },
     "metadata": {
      "needs_background": "light"
     },
     "output_type": "display_data"
    }
   ],
   "source": [
    "fig, (ax0, ax1, ax2, ax3) = plt.subplots(1, 4, figsize=(15, 2))\n",
    "ax0.scatter(X_train[:,0], y_train, marker='o', color='red')\n",
    "ax0.set_title(\"Area vs. Price\", fontstyle='italic') \n",
    "ax0.set_xlabel(\"area in sq.m\")\n",
    "ax0.set_ylabel(\"price in USD\")\n",
    "ax1.scatter(X_train[:,1], y_train, marker='o', color='blue')\n",
    "ax1.set_title(\"# of bedrooms vs. Price\", fontstyle='italic') \n",
    "ax1.set_xlabel(\"# of bedrooms\")\n",
    "ax1.set_ylabel(\"price in USD\")\n",
    "ax2.scatter(X_train[:,2], y_train, marker='o', color='green')\n",
    "ax2.set_title(\"# of floors vs. Price\", fontstyle='italic') \n",
    "ax2.set_xlabel(\"# of floors\")\n",
    "ax2.set_ylabel(\"price in USD\")\n",
    "ax3.scatter(X_train[:,3], y_train, marker='o', color='orange')\n",
    "ax3.set_title(\"Age vs. Price\", fontstyle='italic') \n",
    "ax3.set_xlabel(\"age\")\n",
    "ax3.set_ylabel(\"Age in USD\") \n",
    "plt.subplots_adjust(left=0.5, right=1, wspace=1)\n",
    "plt.show()"
   ]
  },
  {
   "cell_type": "code",
   "execution_count": 132,
   "id": "351cb122",
   "metadata": {},
   "outputs": [],
   "source": [
    "def compute_cost(X, y, w, b):\n",
    "    m = X.shape[0]  # number of sample vectors\n",
    "    cost = 0.0\n",
    "    \n",
    "    for i in range(m):\n",
    "        cost = cost + (np.dot(X[i],w) + b - y[i])**2    \n",
    "    cost = cost / (2*m)\n",
    "    \n",
    "    return cost"
   ]
  },
  {
   "cell_type": "code",
   "execution_count": 133,
   "id": "fc490ef2",
   "metadata": {},
   "outputs": [],
   "source": [
    "def compute_gradient(X, y, w, b):\n",
    "    m, n = X.shape # number of samples, number of features\n",
    "    dj_dw = np.zeros(n,) # the gradient of the cost with respect to w\n",
    "    dj_db = 0. # the gradient of the cost with respect to b\n",
    "    \n",
    "    for i in range(m):\n",
    "        diff = np.dot(X[i],w) + b - y[i]\n",
    "    \n",
    "        for j in range(n):\n",
    "            dj_dw[j] = dj_dw[j] + diff * X[i,j]\n",
    "    \n",
    "        dj_db = dj_db + diff  \n",
    "    \n",
    "    dj_dw = dj_dw / m\n",
    "    dj_db = dj_db / m\n",
    "        \n",
    "    return dj_db, dj_dw"
   ]
  },
  {
   "cell_type": "code",
   "execution_count": 134,
   "id": "6b04f6f3",
   "metadata": {},
   "outputs": [],
   "source": [
    "def gradient_descent(X, y, w_init, b_init, cost_func, gradient_func, alpha, num_iters): \n",
    "    w = copy.deepcopy(w_init)\n",
    "    b = b_init\n",
    "    \n",
    "    for i in range (num_iters):\n",
    "        dj_db, dj_dw = gradient_func(X, y, w, b)\n",
    "        \n",
    "        w = w - alpha * dj_dw\n",
    "        b = b - alpha * dj_db\n",
    "        \n",
    "        if i % math.ceil (num_iters / 10) == 0:\n",
    "            print(f\"Iteration {i:4d}: Cost {cost_func(X, y, w, b):8.2f} \")\n",
    "    \n",
    "    return w, b\n",
    "                "
   ]
  },
  {
   "cell_type": "code",
   "execution_count": 137,
   "id": "ee89072d",
   "metadata": {},
   "outputs": [
    {
     "name": "stdout",
     "output_type": "stream",
     "text": [
      "Iteration    0: Cost  2529.46 \n",
      "Iteration  100: Cost   695.99 \n",
      "Iteration  200: Cost   694.92 \n",
      "Iteration  300: Cost   693.86 \n",
      "Iteration  400: Cost   692.81 \n",
      "Iteration  500: Cost   691.77 \n",
      "Iteration  600: Cost   690.73 \n",
      "Iteration  700: Cost   689.71 \n",
      "Iteration  800: Cost   688.70 \n",
      "Iteration  900: Cost   687.69 \n",
      "\n",
      "w, b found by fradient descent: -0.00224, [ 0.20396569  0.00374919 -0.0112487  -0.0658614 ]\n",
      "prediction: 426.18530, target value: 460\n",
      "prediction: 286.16747, target value: 232\n",
      "prediction: 171.46763, target value: 178\n"
     ]
    }
   ],
   "source": [
    "m, n = X_train.shape\n",
    "w_init = np.zeros(n) \n",
    "b_init = 0.\n",
    "iterations = 1000\n",
    "alpha = 5.0e-7\n",
    "\n",
    "w, b = gradient_descent(X_train, y_train, w_init, b_init, compute_cost, compute_gradient, alpha, iterations)\n",
    "\n",
    "print(f\"\\nw, b found by fradient descent: {b_final:0.5f}, {w_final}\")\n",
    "for i in range(m):\n",
    "    print(f\"prediction: {np.dot(X_train[i], w_final) + b_final:0.5f}, target value: {y_train[i]}\")"
   ]
  },
  {
   "cell_type": "code",
   "execution_count": null,
   "id": "2d8c546f",
   "metadata": {},
   "outputs": [],
   "source": []
  }
 ],
 "metadata": {
  "kernelspec": {
   "display_name": "Python 3 (ipykernel)",
   "language": "python",
   "name": "python3"
  },
  "language_info": {
   "codemirror_mode": {
    "name": "ipython",
    "version": 3
   },
   "file_extension": ".py",
   "mimetype": "text/x-python",
   "name": "python",
   "nbconvert_exporter": "python",
   "pygments_lexer": "ipython3",
   "version": "3.9.7"
  }
 },
 "nbformat": 4,
 "nbformat_minor": 5
}
