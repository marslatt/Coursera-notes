{
 "cells": [
  {
   "cell_type": "markdown",
   "id": "c36a06a5",
   "metadata": {},
   "source": [
    "## Checking Gradient descent for convergence\n",
    "\n",
    "* To converge means to find such parameters $\\vec{w}, b$ that minimize to cost function $J(\\vec{w},b)$ - i.e. to find parameters close to its global minimum.\n",
    "* Remember that at each iteration the parameters $\\vec{w}$ and $b$ are simultaneously updated."
   ]
  },
  {
   "cell_type": "code",
   "execution_count": null,
   "id": "11294f18",
   "metadata": {},
   "outputs": [],
   "source": []
  }
 ],
 "metadata": {
  "kernelspec": {
   "display_name": "Python 3 (ipykernel)",
   "language": "python",
   "name": "python3"
  },
  "language_info": {
   "codemirror_mode": {
    "name": "ipython",
    "version": 3
   },
   "file_extension": ".py",
   "mimetype": "text/x-python",
   "name": "python",
   "nbconvert_exporter": "python",
   "pygments_lexer": "ipython3",
   "version": "3.9.7"
  }
 },
 "nbformat": 4,
 "nbformat_minor": 5
}
