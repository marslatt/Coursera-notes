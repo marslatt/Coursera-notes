{
 "cells": [
  {
   "cell_type": "markdown",
   "id": "1bc5825a",
   "metadata": {},
   "source": [
    "## Multiple Linear Regression \n",
    "\n",
    "Model representaion: $f_{\\vec{w},b}(\\vec{x}) = \\vec{w}.\\vec{X}$ + $b$ ,   where $.$ is a dot product \n",
    "<br><br>\n",
    "\n",
    "* $w_{1} ... w_{n}, b = $ weights or coefficients or parameters of the model (adjusted as the model learns from data)\n",
    "* $\\vec{w} = [w_{1} ... w_{n}] = n$-length vector\n",
    "* $b = $ scalar \n",
    "* $\\vec{X} = $ feature matrix with $m$ rows and $n$ columns\n",
    "* $n = $ length of sample vector\n",
    "* $m = $ number of training samples\n",
    "* $x^{(i)} = (x^{(i)}_{1}, ... , x^{(i)}_{n}) = $ feature vector $i$\n",
    "* $x^{(i)}_{j} = $ element $j$ in sample $i$\n",
    "* $f_{\\vec{w},b}(x^{(i)}) = w_{1}x_{1}$ + ... + $w_{n}x_{1}$ + $b$\n",
    "* $J(\\vec{w},b) = J(w_{1}...w_{n},b) = \\frac{1}{2m} \\sum_{i=1}^{m} ( f_{\\vec{w},b}(x^{(i)}) - y^{(i)} )^{2} = $ cost function, where $f_{\\vec{w},b}(\\vec{x}) = \\vec{w}.x^{(i)}$ + $b$\n"
   ]
  },
  {
   "cell_type": "markdown",
   "id": "460caa73",
   "metadata": {},
   "source": [
    "## Gradient Descent with multiple variables\n",
    "\n",
    "Repeat until convergence: {\n",
    "    <br>  $w_{j} = w_{j} - \\alpha \\frac{\\partial}{\\partial w_{j}}J(\\vec{w},b)$ \n",
    "    <br>  $b = b - \\alpha \\frac{\\partial}{\\partial b}J(\\vec{w},b)$ <br> \n",
    "}\n",
    "<br><br>\n",
    "where: \n",
    "<br><br>$\\frac{\\partial}{\\partial w_{j}}J(\\vec{w},b) = \\frac{1}{m} \\sum_{i=1}^{m} ( f_{\\vec{w},b}(x^{(i)}) - y^{(i)} )x^{(i)}_{j}$ , for $j$ = 1 ... $n$ \n",
    "<br><br>$\\frac{\\partial}{\\partial b}J(\\vec{w},b) = \\frac{1}{m} \\sum_{i=1}^{m} ( f_{\\vec{w},b}(x^{(i)}) - y^{(i)} )$\n",
    "<br>\n",
    "<br>\n",
    "#### Example:\n",
    "\n",
    "```python\n",
    "for i in range(m):\n",
    "    diff = np.dot(x[i],w) - y[i]\n",
    "    \n",
    "    for j in range(n):\n",
    "        dj_dw[j] = dj_dw[j] + diff * x[i][j]\n",
    "    \n",
    "    dj_db = dj_db + diff  \n",
    "    \n",
    "dj_dw = dj_dw / m\n",
    "dj_db = dj_db / m\n",
    "```"
   ]
  },
  {
   "cell_type": "code",
   "execution_count": null,
   "id": "31c58aea",
   "metadata": {},
   "outputs": [],
   "source": []
  },
  {
   "cell_type": "code",
   "execution_count": null,
   "id": "818c6430",
   "metadata": {},
   "outputs": [],
   "source": []
  }
 ],
 "metadata": {
  "kernelspec": {
   "display_name": "Python 3 (ipykernel)",
   "language": "python",
   "name": "python3"
  },
  "language_info": {
   "codemirror_mode": {
    "name": "ipython",
    "version": 3
   },
   "file_extension": ".py",
   "mimetype": "text/x-python",
   "name": "python",
   "nbconvert_exporter": "python",
   "pygments_lexer": "ipython3",
   "version": "3.9.7"
  }
 },
 "nbformat": 4,
 "nbformat_minor": 5
}
